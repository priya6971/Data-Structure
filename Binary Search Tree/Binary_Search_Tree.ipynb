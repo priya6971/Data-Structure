{
  "nbformat": 4,
  "nbformat_minor": 0,
  "metadata": {
    "colab": {
      "name": "Binary Search Tree.ipynb",
      "provenance": []
    },
    "kernelspec": {
      "name": "python3",
      "display_name": "Python 3"
    },
    "language_info": {
      "name": "python"
    }
  },
  "cells": [
    {
      "cell_type": "markdown",
      "metadata": {
        "id": "b-i3zJL8YGKo"
      },
      "source": [
        "**Binary Search Tree Implementation**\n",
        "\n",
        "Operations :\n",
        "*   Insertion of an element\n",
        "*   Searching of an element\n",
        "*   Inorder Traversal"
      ]
    },
    {
      "cell_type": "code",
      "metadata": {
        "colab": {
          "base_uri": "https://localhost:8080/"
        },
        "id": "LGUx3-fO80Pm",
        "outputId": "a2b1e43f-4f79-4dc7-eb0e-bb65664e41aa"
      },
      "source": [
        "class BinarySearchTreeNode:\n",
        "  def __init__(self, data):\n",
        "    self.left = None\n",
        "    self.right = None\n",
        "    self.val = data\n",
        "\n",
        "## Method definition to do insertion in Binary Search Tree\n",
        "def insert_BST(root, data):\n",
        "    if root is None:\n",
        "      return BinarySearchTreeNode(data)\n",
        "    else:\n",
        "      ## It is not allowing duplicate values\n",
        "      if root.val == data:\n",
        "        return root\n",
        "      ## If data is greater than the root element\n",
        "      ## Traverse at the right hand side\n",
        "      elif root.val < data:\n",
        "        root.right = insert_BST(root.right, data)\n",
        "      else:\n",
        "      ## If data is lesser than the root element\n",
        "      ## Traverse at the left hand side\n",
        "        root.left = insert_BST(root.left, data)\n",
        "      return root\n",
        "\n",
        "## Method definition to do inorder traversal\n",
        "def inorder(root):\n",
        "  if root:\n",
        "    inorder(root.left)\n",
        "    print(root.val, end = \" \")\n",
        "    inorder(root.right)\n",
        "\n",
        "## Method definition to do search in BST\n",
        "def search_BST(root, data):\n",
        "  while root != None:\n",
        "    ## data might be in right subtree\n",
        "    if root.val < data:\n",
        "      return search_BST(root.right, data)\n",
        "    ## data might be in left subtree\n",
        "    elif root.val > data:\n",
        "      return search_BST(root.left, data)\n",
        "    else:\n",
        "      return True\n",
        "  return False\n",
        "\n",
        "r = BinarySearchTreeNode(50)\n",
        "r = insert_BST(r, 30)\n",
        "r = insert_BST(r, 20)\n",
        "r = insert_BST(r, 40)\n",
        "r = insert_BST(r, 70)\n",
        "r = insert_BST(r, 60)\n",
        "r = insert_BST(r, 80)\n",
        "print(search_BST(r, 75))\n",
        "inorder(r)"
      ],
      "execution_count": 11,
      "outputs": [
        {
          "output_type": "stream",
          "text": [
            "False\n",
            "20 30 40 50 60 70 80 "
          ],
          "name": "stdout"
        }
      ]
    },
    {
      "cell_type": "markdown",
      "metadata": {
        "id": "bGb4scTaYhjn"
      },
      "source": [
        "**Time Complexity :**\n",
        "\n",
        "Worst case time complexity of searching and insertion of an element in a BST is O(h) where h is the height of the BST. Because in worst case we may have to travel from root node to the leaf node and the height of the skewed binary search tree is n. \n",
        "\n",
        "So, overall time complexity of insertion and searching in BST is O(n)"
      ]
    },
    {
      "cell_type": "markdown",
      "metadata": {
        "id": "m0RIYqR2ZLDs"
      },
      "source": [
        "**Assignment Problem :**\n",
        "\n",
        "Write the method definition of below operations on Binary Search Tree.\n",
        "\n",
        "*   find_max() - to find the maximum element in BST\n",
        "*   find_min() - to find the minimum element in BST\n",
        "*   count_nodes() - to count the total number of nodes in BST\n",
        "*   Postorder() - to do the postorder traversal of BST\n",
        "*   Preorder() - to do the preorder traversal of BST\n",
        "\n"
      ]
    }
  ]
}