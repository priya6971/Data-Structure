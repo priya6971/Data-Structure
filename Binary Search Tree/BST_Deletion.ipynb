{
  "nbformat": 4,
  "nbformat_minor": 0,
  "metadata": {
    "colab": {
      "name": "BST Deletion.ipynb",
      "provenance": []
    },
    "kernelspec": {
      "name": "python3",
      "display_name": "Python 3"
    },
    "language_info": {
      "name": "python"
    }
  },
  "cells": [
    {
      "cell_type": "code",
      "metadata": {
        "colab": {
          "base_uri": "https://localhost:8080/"
        },
        "id": "pD6VRcpitu1Z",
        "outputId": "0960ac4e-b454-47b2-cb67-e4b30bae1082"
      },
      "source": [
        "class BinarySearchTreeNode:\n",
        "  def __init__(self, data):\n",
        "    self.left = None\n",
        "    self.right = None\n",
        "    self.val = data\n",
        "\n",
        "## Method definition to do insertion in Binary Search Tree\n",
        "def insert_BST(root, data):\n",
        "    if root is None:\n",
        "      return BinarySearchTreeNode(data)\n",
        "    else:\n",
        "      ## It is not allowing duplicate values\n",
        "      if root.val == data:\n",
        "        return root\n",
        "      ## If data is greater than the root element\n",
        "      ## Traverse at the right hand side\n",
        "      elif root.val < data:\n",
        "        root.right = insert_BST(root.right, data)\n",
        "      else:\n",
        "      ## If data is lesser than the root element\n",
        "      ## Traverse at the left hand side\n",
        "        root.left = insert_BST(root.left, data)\n",
        "      return root\n",
        "\n",
        "## Method definition to do inorder traversal\n",
        "def inorder(root):\n",
        "  if root:\n",
        "    inorder(root.left)\n",
        "    print(root.val, end = \" \")\n",
        "    inorder(root.right)\n",
        "\n",
        "## Method definition to find minimum value in BST\n",
        "def minValueNode(node):\n",
        "  curr = node\n",
        "  while(curr.left is not None):\n",
        "    curr = curr.left\n",
        "\n",
        "  return curr\n",
        "\n",
        "# Given a binary search tree and a data, this function\n",
        "# delete the key and returns the new root\n",
        "def deleteNode(root, data):\n",
        "    # Base Case\n",
        "    if root is None:\n",
        "      return root\n",
        "    # If the data to be deleted\n",
        "    # is smaller than the root's\n",
        "    # data then it lies in left subtree\n",
        "    if (data < root.val):\n",
        "      root.left = deleteNode(root.left, data)\n",
        " \n",
        "    # If the data to be delete\n",
        "    # is greater than the root's\n",
        "    # data then it lies in right subtree\n",
        "    elif (data > root.val):\n",
        "      root.right = deleteNode(root.right, data)\n",
        " \n",
        "    # If data is same as root's data, then this is the node\n",
        "    # to be deleted\n",
        "    # Case 2\n",
        "    else:\n",
        "        # Node with only one child or no child\n",
        "        if root.left is None:\n",
        "          temp = root.right\n",
        "          root = None\n",
        "          return temp\n",
        "        elif root.right is None:\n",
        "          temp = root.left\n",
        "          root = None\n",
        "          return temp\n",
        " \n",
        "        # Node with two children:\n",
        "        # Get the inorder successor\n",
        "        # (smallest in the right subtree)\n",
        "        # Case 3\n",
        "        temp = minValueNode(root.right)\n",
        " \n",
        "        # Copy the inorder successor's\n",
        "        # content to this node\n",
        "        root.val = temp.val\n",
        " \n",
        "        # Delete the inorder successor\n",
        "        root.right = deleteNode(root.right, temp.val)\n",
        " \n",
        "    return root\n",
        "\n",
        "r = BinarySearchTreeNode(50)\n",
        "r = insert_BST(r, 30)\n",
        "r = insert_BST(r, 20)\n",
        "r = insert_BST(r, 40)\n",
        "r = insert_BST(r, 70)\n",
        "r = insert_BST(r, 60)\n",
        "r = insert_BST(r, 80)\n",
        "inorder(r)\n",
        "r = deleteNode(r,30)\n",
        "print(\"After DELETION of 30\")\n",
        "inorder(r)\n",
        "r = deleteNode(r,70)\n",
        "print(\"After DELETION of 70\")\n",
        "inorder(r)"
      ],
      "execution_count": 20,
      "outputs": [
        {
          "output_type": "stream",
          "text": [
            "20 30 40 50 60 70 80 After DELETION of 30\n",
            "20 40 50 60 70 80 After DELETION of 70\n",
            "20 40 50 60 80 "
          ],
          "name": "stdout"
        }
      ]
    },
    {
      "cell_type": "markdown",
      "metadata": {
        "id": "tJrVQdCcPD1-"
      },
      "source": [
        "**Excercise Problem**\n",
        "\n",
        "Use maxValueNode function in above code and then use maximum value from left subtree in order to do deletion operation in case 3. \n",
        "\n"
      ]
    }
  ]
}