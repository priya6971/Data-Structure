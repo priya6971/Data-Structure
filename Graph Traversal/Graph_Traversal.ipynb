{
  "nbformat": 4,
  "nbformat_minor": 0,
  "metadata": {
    "colab": {
      "name": "Graph Traversal.ipynb",
      "provenance": []
    },
    "kernelspec": {
      "name": "python3",
      "display_name": "Python 3"
    },
    "language_info": {
      "name": "python"
    }
  },
  "cells": [
    {
      "cell_type": "markdown",
      "metadata": {
        "id": "tJQVlEp0nF49"
      },
      "source": [
        "**Depth First Search Implementation**\n",
        "\n",
        "**Used Data Structure : Stack**"
      ]
    },
    {
      "cell_type": "code",
      "metadata": {
        "colab": {
          "base_uri": "https://localhost:8080/"
        },
        "id": "hYnBMeaCladm",
        "outputId": "77cc37c3-c13a-452b-da07-f3b9041c27ca"
      },
      "source": [
        "## Graph Representation\n",
        "graph = {\n",
        "    'A' : ['B','C','D'],\n",
        "    'B' : ['E'],\n",
        "    'C' : ['E', 'F'],\n",
        "    'D' : ['F'],\n",
        "    'E' : ['G'],\n",
        "    'F' : ['G'],\n",
        "    'G' : []\n",
        "}\n",
        "\n",
        "## visited set is to keep track of visited nodes\n",
        "visited = set()\n",
        "\n",
        "## Method Definition\n",
        "def depth_first_search(visited, graph, node):\n",
        "  if node not in visited:\n",
        "    print(node, end = \" \")\n",
        "    visited.add(node)\n",
        "    for adjacent in graph[node]:\n",
        "      ## Recursive call - Stack Data Structure\n",
        "      depth_first_search(visited, graph, adjacent)\n",
        "\n",
        "## Driver Code\n",
        "## Function Call\n",
        "depth_first_search(visited, graph, 'A')"
      ],
      "execution_count": 1,
      "outputs": [
        {
          "output_type": "stream",
          "text": [
            "A B E G C F D "
          ],
          "name": "stdout"
        }
      ]
    },
    {
      "cell_type": "markdown",
      "metadata": {
        "id": "c8b85F6anZkf"
      },
      "source": [
        "**Time Complexity : O(V + E)**"
      ]
    },
    {
      "cell_type": "markdown",
      "metadata": {
        "id": "pDe4lPHwn3Gi"
      },
      "source": [
        "**Breadth First Search Implementation**\n",
        "\n",
        "**Used Data Structure : Queue**"
      ]
    },
    {
      "cell_type": "code",
      "metadata": {
        "colab": {
          "base_uri": "https://localhost:8080/"
        },
        "id": "8beCDbn8nkpR",
        "outputId": "e3dc7501-6bfa-4a8c-e280-017a7bd27e34"
      },
      "source": [
        "## Graph Representation\n",
        "graph = {\n",
        "    'A' : ['B','C','D'],\n",
        "    'B' : ['E'],\n",
        "    'C' : ['E', 'F'],\n",
        "    'D' : ['F'],\n",
        "    'E' : ['G'],\n",
        "    'F' : ['G'],\n",
        "    'G' : []\n",
        "}\n",
        "\n",
        "## visited set is to keep track of visited nodes\n",
        "visited = set()\n",
        "## Queue is used for the implementation of BFS\n",
        "from collections import deque\n",
        "queue = deque()\n",
        "\n",
        "## Method Definition\n",
        "def breadth_first_search(visited, graph, node):\n",
        "  visited.add(node)\n",
        "  queue.appendleft(node)\n",
        "\n",
        "  while queue:\n",
        "    node = queue.pop() \n",
        "    print (node, end = \" \") \n",
        "\n",
        "    for neighbour in graph[node]:\n",
        "      if neighbour not in visited:\n",
        "        visited.add(neighbour)\n",
        "        queue.appendleft(neighbour)\n",
        "\n",
        "## Driver Code\n",
        "## Function Call\n",
        "breadth_first_search(visited, graph, 'A')"
      ],
      "execution_count": 2,
      "outputs": [
        {
          "output_type": "stream",
          "text": [
            "A B C D E F G "
          ],
          "name": "stdout"
        }
      ]
    },
    {
      "cell_type": "markdown",
      "metadata": {
        "id": "qAsdHjQxq9M3"
      },
      "source": [
        "**Time Complexity : O(V + E)**"
      ]
    }
  ]
}