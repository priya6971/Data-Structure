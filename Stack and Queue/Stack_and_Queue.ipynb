{
  "nbformat": 4,
  "nbformat_minor": 0,
  "metadata": {
    "colab": {
      "name": "Stack and Queue.ipynb",
      "provenance": []
    },
    "kernelspec": {
      "name": "python3",
      "display_name": "Python 3"
    },
    "language_info": {
      "name": "python"
    }
  },
  "cells": [
    {
      "cell_type": "markdown",
      "metadata": {
        "id": "ePWV7SbpNnaO"
      },
      "source": [
        "**Implementation of Stack using List in Python**"
      ]
    },
    {
      "cell_type": "code",
      "metadata": {
        "id": "DdjRVJnlKtQJ"
      },
      "source": [
        "stack = []\n",
        "stack.append('https://leetcode.com/')\n",
        "stack.append('https://leetcode.com/problemset/all/')\n",
        "stack.append('https://leetcode.com/problems/find-first-and-last-position-of-element-in-sorted-array/')"
      ],
      "execution_count": 1,
      "outputs": []
    },
    {
      "cell_type": "code",
      "metadata": {
        "colab": {
          "base_uri": "https://localhost:8080/",
          "height": 35
        },
        "id": "dhvnSmIwLfsT",
        "outputId": "22835829-8af1-4f52-817c-6cfd8de26cf8"
      },
      "source": [
        "stack[-1]"
      ],
      "execution_count": 2,
      "outputs": [
        {
          "output_type": "execute_result",
          "data": {
            "application/vnd.google.colaboratory.intrinsic+json": {
              "type": "string"
            },
            "text/plain": [
              "'https://leetcode.com/problems/find-first-and-last-position-of-element-in-sorted-array/'"
            ]
          },
          "metadata": {
            "tags": []
          },
          "execution_count": 2
        }
      ]
    },
    {
      "cell_type": "code",
      "metadata": {
        "colab": {
          "base_uri": "https://localhost:8080/"
        },
        "id": "EdzcfPBn-XRF",
        "outputId": "da3540dc-9f82-462b-e29d-0e20e86bd676"
      },
      "source": [
        "stack"
      ],
      "execution_count": 3,
      "outputs": [
        {
          "output_type": "execute_result",
          "data": {
            "text/plain": [
              "['https://leetcode.com/',\n",
              " 'https://leetcode.com/problemset/all/',\n",
              " 'https://leetcode.com/problems/find-first-and-last-position-of-element-in-sorted-array/']"
            ]
          },
          "metadata": {
            "tags": []
          },
          "execution_count": 3
        }
      ]
    },
    {
      "cell_type": "code",
      "metadata": {
        "colab": {
          "base_uri": "https://localhost:8080/",
          "height": 35
        },
        "id": "yxoafeMuLjeP",
        "outputId": "df29a851-0af6-4c5b-bf98-3a6120793bde"
      },
      "source": [
        "stack.pop()"
      ],
      "execution_count": 4,
      "outputs": [
        {
          "output_type": "execute_result",
          "data": {
            "application/vnd.google.colaboratory.intrinsic+json": {
              "type": "string"
            },
            "text/plain": [
              "'https://leetcode.com/problems/find-first-and-last-position-of-element-in-sorted-array/'"
            ]
          },
          "metadata": {
            "tags": []
          },
          "execution_count": 4
        }
      ]
    },
    {
      "cell_type": "code",
      "metadata": {
        "colab": {
          "base_uri": "https://localhost:8080/"
        },
        "id": "Km2xtuJHLmv1",
        "outputId": "ce3afbaf-76bf-49e2-c31c-6a8d76404209"
      },
      "source": [
        "stack"
      ],
      "execution_count": 5,
      "outputs": [
        {
          "output_type": "execute_result",
          "data": {
            "text/plain": [
              "['https://leetcode.com/', 'https://leetcode.com/problemset/all/']"
            ]
          },
          "metadata": {
            "tags": []
          },
          "execution_count": 5
        }
      ]
    },
    {
      "cell_type": "markdown",
      "metadata": {
        "id": "D2d6dVoRNs6y"
      },
      "source": [
        "**Implementation of Stack Using collections.deque**"
      ]
    },
    {
      "cell_type": "code",
      "metadata": {
        "id": "P8nmXXijLojN"
      },
      "source": [
        "from collections import deque\n",
        "stack = deque()"
      ],
      "execution_count": 6,
      "outputs": []
    },
    {
      "cell_type": "code",
      "metadata": {
        "id": "peZExRtmNWRH"
      },
      "source": [
        "stack.append('https://leetcode.com/')\n",
        "stack.append('https://leetcode.com/problemset/all/')\n",
        "stack.append('https://leetcode.com/problems/find-first-and-last-position-of-element-in-sorted-array/')"
      ],
      "execution_count": 7,
      "outputs": []
    },
    {
      "cell_type": "code",
      "metadata": {
        "colab": {
          "base_uri": "https://localhost:8080/"
        },
        "id": "Y_TTzkePNij-",
        "outputId": "50c6e95e-0e26-4a16-d109-a92d4fbe681e"
      },
      "source": [
        "stack"
      ],
      "execution_count": 8,
      "outputs": [
        {
          "output_type": "execute_result",
          "data": {
            "text/plain": [
              "deque(['https://leetcode.com/',\n",
              "       'https://leetcode.com/problemset/all/',\n",
              "       'https://leetcode.com/problems/find-first-and-last-position-of-element-in-sorted-array/'])"
            ]
          },
          "metadata": {
            "tags": []
          },
          "execution_count": 8
        }
      ]
    },
    {
      "cell_type": "code",
      "metadata": {
        "colab": {
          "base_uri": "https://localhost:8080/",
          "height": 35
        },
        "id": "p67x46aWNjYe",
        "outputId": "7fbf9342-a4f8-4d34-aa46-bd798d45c840"
      },
      "source": [
        "stack.pop()"
      ],
      "execution_count": 9,
      "outputs": [
        {
          "output_type": "execute_result",
          "data": {
            "application/vnd.google.colaboratory.intrinsic+json": {
              "type": "string"
            },
            "text/plain": [
              "'https://leetcode.com/problems/find-first-and-last-position-of-element-in-sorted-array/'"
            ]
          },
          "metadata": {
            "tags": []
          },
          "execution_count": 9
        }
      ]
    },
    {
      "cell_type": "code",
      "metadata": {
        "colab": {
          "base_uri": "https://localhost:8080/"
        },
        "id": "2vNBPZWfN09L",
        "outputId": "137ea733-7cc2-45e5-b5fd-846db3ecd5bc"
      },
      "source": [
        "stack"
      ],
      "execution_count": 10,
      "outputs": [
        {
          "output_type": "execute_result",
          "data": {
            "text/plain": [
              "deque(['https://leetcode.com/', 'https://leetcode.com/problemset/all/'])"
            ]
          },
          "metadata": {
            "tags": []
          },
          "execution_count": 10
        }
      ]
    },
    {
      "cell_type": "code",
      "metadata": {
        "colab": {
          "base_uri": "https://localhost:8080/"
        },
        "id": "ORwLqLIWOGva",
        "outputId": "1a1f550c-ca99-4525-da2a-a9f968a2a79d"
      },
      "source": [
        "stack.insert(2,'https://leetcode.com/problems/find-first-and-last-position-of-element-in-sorted-array/') \n",
        "stack"
      ],
      "execution_count": 11,
      "outputs": [
        {
          "output_type": "execute_result",
          "data": {
            "text/plain": [
              "deque(['https://leetcode.com/',\n",
              "       'https://leetcode.com/problemset/all/',\n",
              "       'https://leetcode.com/problems/find-first-and-last-position-of-element-in-sorted-array/'])"
            ]
          },
          "metadata": {
            "tags": []
          },
          "execution_count": 11
        }
      ]
    },
    {
      "cell_type": "markdown",
      "metadata": {
        "id": "piH8NO75Pbel"
      },
      "source": [
        "**Implementation of Queue using List in Python**"
      ]
    },
    {
      "cell_type": "code",
      "metadata": {
        "id": "vl-jhEb1PgmG"
      },
      "source": [
        "queue = []"
      ],
      "execution_count": 12,
      "outputs": []
    },
    {
      "cell_type": "code",
      "metadata": {
        "id": "OwyjV4hMl0IR"
      },
      "source": [
        "queue.insert(0, 290)\n",
        "queue.insert(0, 230)\n",
        "queue.insert(0, 983)"
      ],
      "execution_count": 13,
      "outputs": []
    },
    {
      "cell_type": "code",
      "metadata": {
        "colab": {
          "base_uri": "https://localhost:8080/"
        },
        "id": "LPAIQnh2l8j7",
        "outputId": "b600296b-8723-412f-8bc9-87b3e1196524"
      },
      "source": [
        "queue"
      ],
      "execution_count": 14,
      "outputs": [
        {
          "output_type": "execute_result",
          "data": {
            "text/plain": [
              "[983, 230, 290]"
            ]
          },
          "metadata": {
            "tags": []
          },
          "execution_count": 14
        }
      ]
    },
    {
      "cell_type": "code",
      "metadata": {
        "colab": {
          "base_uri": "https://localhost:8080/"
        },
        "id": "saQSYqr0l_xj",
        "outputId": "45a471df-cc2d-4d50-d5fd-879890264e8d"
      },
      "source": [
        "queue.pop()"
      ],
      "execution_count": 15,
      "outputs": [
        {
          "output_type": "execute_result",
          "data": {
            "text/plain": [
              "290"
            ]
          },
          "metadata": {
            "tags": []
          },
          "execution_count": 15
        }
      ]
    },
    {
      "cell_type": "code",
      "metadata": {
        "colab": {
          "base_uri": "https://localhost:8080/"
        },
        "id": "Vk2NLPz0mCBP",
        "outputId": "84140b89-46fb-4942-8d34-469c1f1b1729"
      },
      "source": [
        "queue"
      ],
      "execution_count": 16,
      "outputs": [
        {
          "output_type": "execute_result",
          "data": {
            "text/plain": [
              "[983, 230]"
            ]
          },
          "metadata": {
            "tags": []
          },
          "execution_count": 16
        }
      ]
    },
    {
      "cell_type": "markdown",
      "metadata": {
        "id": "AnU5Od1yPhrV"
      },
      "source": [
        "**Implementation of Queue using collections.deque**"
      ]
    },
    {
      "cell_type": "code",
      "metadata": {
        "id": "JOR6mNwhPnLW"
      },
      "source": [
        "from collections import deque\n",
        "queue = deque()"
      ],
      "execution_count": 17,
      "outputs": []
    },
    {
      "cell_type": "code",
      "metadata": {
        "id": "F07aMCZKmVAX"
      },
      "source": [
        "queue.appendleft(290)\n",
        "queue.appendleft(230)\n",
        "queue.appendleft(983)"
      ],
      "execution_count": 18,
      "outputs": []
    },
    {
      "cell_type": "code",
      "metadata": {
        "colab": {
          "base_uri": "https://localhost:8080/"
        },
        "id": "FEd0jc2Bmd_m",
        "outputId": "b275965b-b61b-4959-bef9-b444ba08c39c"
      },
      "source": [
        "queue"
      ],
      "execution_count": 19,
      "outputs": [
        {
          "output_type": "execute_result",
          "data": {
            "text/plain": [
              "deque([983, 230, 290])"
            ]
          },
          "metadata": {
            "tags": []
          },
          "execution_count": 19
        }
      ]
    },
    {
      "cell_type": "code",
      "metadata": {
        "colab": {
          "base_uri": "https://localhost:8080/"
        },
        "id": "UUniv4Jcme6F",
        "outputId": "5d5bbd45-24b3-4912-94d3-47b81a7d7599"
      },
      "source": [
        "queue.pop()"
      ],
      "execution_count": 20,
      "outputs": [
        {
          "output_type": "execute_result",
          "data": {
            "text/plain": [
              "290"
            ]
          },
          "metadata": {
            "tags": []
          },
          "execution_count": 20
        }
      ]
    }
  ]
}