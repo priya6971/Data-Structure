{
  "nbformat": 4,
  "nbformat_minor": 0,
  "metadata": {
    "colab": {
      "name": "Doubly Linked List.ipynb",
      "provenance": []
    },
    "kernelspec": {
      "name": "python3",
      "display_name": "Python 3"
    },
    "language_info": {
      "name": "python"
    }
  },
  "cells": [
    {
      "cell_type": "markdown",
      "metadata": {
        "id": "LV6jOv4YvDDs"
      },
      "source": [
        "**Implementation of Doubly Linked List**\n",
        "\n",
        "Operations Performed :\n",
        "\n",
        "\n",
        "1.   Insertion in DLL\n",
        "2.   Deletion in DLL\n",
        "\n"
      ]
    },
    {
      "cell_type": "code",
      "metadata": {
        "colab": {
          "base_uri": "https://localhost:8080/"
        },
        "id": "qwkEhWkKu4Tz",
        "outputId": "4ed153dc-2e7d-4e62-c409-a2dc2383c0d1"
      },
      "source": [
        "## Class of Node containing data and two pointers namely next and prev in DLL\n",
        "class Node:\n",
        "  def __init__(self, data):\n",
        "    self.data = data\n",
        "    self.prev = None\n",
        "    self.next = None\n",
        "\n",
        "## Class of DLL\n",
        "class DoublyLinkedList:\n",
        "  ## Constructor for DLL which is empty\n",
        "  def __init__(self):\n",
        "    self.head = None\n",
        "\n",
        "  ## Function to delete a node in DLL\n",
        "  def deleteNode(self, deleted_node):\n",
        "    if self.head is None or deleted_node is None:\n",
        "      return\n",
        "    \n",
        "    ## If node to be deleted is the first node\n",
        "    if self.head == deleted_node:\n",
        "      self.head = deleted_node.next\n",
        "\n",
        "    ## Change the prev pointer if the node to be deleted is not the first node\n",
        "    if deleted_node.prev is not None:\n",
        "      deleted_node.prev.next = deleted_node.prev\n",
        "\n",
        "    ## Change the next pointer if the node to be deleted is not the last node\n",
        "    if deleted_node.next is not None:\n",
        "      deleted_node.next.prev = deleted_node.prev\n",
        "  \n",
        "  ## Function to insert a node is DLL - Insertion in the beginning of the DLL\n",
        "  def insertNode(self, data):\n",
        "    node = Node(data)\n",
        "\n",
        "    node.next = self.head\n",
        "    if self.head is not None:\n",
        "      self.head.prev = node\n",
        "    \n",
        "    self.head = node\n",
        "\n",
        " ## Function to print the DLL\n",
        "  def traverse_list(self):\n",
        "    if self.head is None:\n",
        "      print(\"List has no element\")\n",
        "      return\n",
        "    else:\n",
        "      iterator = self.head\n",
        "      while iterator is not None:\n",
        "        print(iterator.data , end = \"-->\")\n",
        "        iterator = iterator.next\n",
        "\n",
        "dll_list1 = DoublyLinkedList()\n",
        "dll_list1.insertNode(2)\n",
        "dll_list1.insertNode(4)\n",
        "dll_list1.insertNode(5)\n",
        "dll_list1.insertNode(10)\n",
        "dll_list1.insertNode(12)\n",
        "print(\"Doubly Linked List After insertion of nodes\")\n",
        "dll_list1.traverse_list()\n",
        "dll_list1.deleteNode(dll_list1.head)\n",
        "print(\"\\n Doubly Linked List after deletion\")\n",
        "dll_list1.traverse_list()"
      ],
      "execution_count": 16,
      "outputs": [
        {
          "output_type": "stream",
          "text": [
            "Doubly Linked List After insertion of nodes\n",
            "12-->10-->5-->4-->2-->\n",
            " Doubly Linked List after deletion\n",
            "10-->5-->4-->2-->"
          ],
          "name": "stdout"
        }
      ]
    },
    {
      "cell_type": "markdown",
      "metadata": {
        "id": "lHUE_FI__jY4"
      },
      "source": [
        "**Assignment Problem:**\n",
        "\n",
        "Try to implement all the operations which we have studied in Singly Linked List in above code of Doubly Linked List and after that evaluate the time complexity of each function in your code.\n",
        "\n"
      ]
    }
  ]
}