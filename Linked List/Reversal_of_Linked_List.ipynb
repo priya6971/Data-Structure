{
  "nbformat": 4,
  "nbformat_minor": 0,
  "metadata": {
    "colab": {
      "name": "Reversal of Linked List.ipynb",
      "provenance": []
    },
    "kernelspec": {
      "name": "python3",
      "display_name": "Python 3"
    },
    "language_info": {
      "name": "python"
    }
  },
  "cells": [
    {
      "cell_type": "markdown",
      "metadata": {
        "id": "aVr_06afDLjs"
      },
      "source": [
        "**Reversal of Singly Linked List**"
      ]
    },
    {
      "cell_type": "code",
      "metadata": {
        "colab": {
          "base_uri": "https://localhost:8080/"
        },
        "id": "60UEgntaBCB_",
        "outputId": "e70c3f30-6528-433f-b08a-4a42486af99d"
      },
      "source": [
        "class Node:\n",
        "  def __init__(self, data=None, next_node=None):\n",
        "    self.data = data\n",
        "    self.next_node = next_node\n",
        "\n",
        "class LinkedList:\n",
        "  def __init__(self):\n",
        "    self.head = None\n",
        "## Method to display all elements inside the Linked List\n",
        "  def print_LL(self):\n",
        "    if self.head is None:\n",
        "      print(\"Linked List is empty\")\n",
        "      return\n",
        "    iterator = self.head\n",
        "    list_str = ' '\n",
        "    while iterator:\n",
        "      list_str += str(iterator.data) + '-->'\n",
        "      iterator = iterator.next_node\n",
        "    print(list_str)\n",
        "\n",
        "## Method definition to insert the elements at the end of the Linked List\n",
        "  def insert_at_end(self, data):\n",
        "    if self.head is None:\n",
        "      self.head = Node(data, None)\n",
        "      return\n",
        "\n",
        "    iterator = self.head\n",
        "    while iterator.next_node:\n",
        "      iterator = iterator.next_node\n",
        "\n",
        "    iterator.next_node = Node(data, None)\n",
        "## Method Definition to reverse the elements inside the linked list\n",
        "  def reversal_LL(self):\n",
        "    prev = None\n",
        "    next = None\n",
        "    curr = self.head\n",
        "    while (curr is not None):\n",
        "      next = curr.next_node\n",
        "      curr.next_node = prev\n",
        "      prev = curr\n",
        "      curr = next\n",
        "    self.head = prev\n",
        "\n",
        "## Driver Code\n",
        "if __name__ == '__main__':\n",
        "  list_1 = LinkedList()\n",
        "  list_1.insert_at_end(46)\n",
        "  list_1.insert_at_end(34)\n",
        "  list_1.insert_at_end(56)\n",
        "  list_1.insert_at_end(67)\n",
        "  list_1.insert_at_end(78)\n",
        "  list_1.insert_at_end(87)\n",
        "  list_1.print_LL()\n",
        "  list_1.reversal_LL()\n",
        "  print(\"Linked List after reversal operation:\")\n",
        "  list_1.print_LL()"
      ],
      "execution_count": 7,
      "outputs": [
        {
          "output_type": "stream",
          "text": [
            " 46-->34-->56-->67-->78-->87-->\n",
            "Linked List after reversal operation:\n",
            " 87-->78-->67-->56-->34-->46-->\n"
          ],
          "name": "stdout"
        }
      ]
    },
    {
      "cell_type": "code",
      "metadata": {
        "id": "bvy0XOAPBzlj"
      },
      "source": [
        ""
      ],
      "execution_count": null,
      "outputs": []
    }
  ]
}