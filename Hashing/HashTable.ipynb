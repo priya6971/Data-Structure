{
  "nbformat": 4,
  "nbformat_minor": 0,
  "metadata": {
    "colab": {
      "name": "HashTable.ipynb",
      "provenance": []
    },
    "kernelspec": {
      "name": "python3",
      "display_name": "Python 3"
    },
    "language_info": {
      "name": "python"
    },
    "accelerator": "GPU"
  },
  "cells": [
    {
      "cell_type": "markdown",
      "metadata": {
        "id": "OBgqczuvmbqI"
      },
      "source": [
        "**Implementation of HashTable**"
      ]
    },
    {
      "cell_type": "code",
      "metadata": {
        "id": "BfDTeLFWkUqc"
      },
      "source": [
        "student_score = []\n",
        "with open(\"student_score.csv\",\"r\") as f:\n",
        "    for line in f:\n",
        "        tokens = line.split(',')\n",
        "        roll_num = tokens[0]\n",
        "        score = float(tokens[1])\n",
        "        student_score.append([roll_num,score])"
      ],
      "execution_count": 4,
      "outputs": []
    },
    {
      "cell_type": "code",
      "metadata": {
        "colab": {
          "base_uri": "https://localhost:8080/"
        },
        "id": "yydVxEMRlE48",
        "outputId": "4227092b-aaaf-4217-fb55-b799e64bf32f"
      },
      "source": [
        "student_score"
      ],
      "execution_count": 5,
      "outputs": [
        {
          "output_type": "execute_result",
          "data": {
            "text/plain": [
              "[['AI20MTECH12021', 56.0],\n",
              " ['AI20MTECH12013', 89.0],\n",
              " ['AI20MTECH14010', 40.0],\n",
              " ['AI20MTECH14011', 60.0],\n",
              " ['AI20MTECH14012', 80.0],\n",
              " ['AI20MTECH14015', 90.0],\n",
              " ['AI20MTECH14016', 45.0],\n",
              " ['AI20MTECH14017', 67.0],\n",
              " ['AI20MTECH14019', 89.0]]"
            ]
          },
          "metadata": {
            "tags": []
          },
          "execution_count": 5
        }
      ]
    },
    {
      "cell_type": "code",
      "metadata": {
        "colab": {
          "base_uri": "https://localhost:8080/"
        },
        "id": "MBBg_Y-DlKfP",
        "outputId": "846ff998-f2ce-478a-e659-733adc69452d"
      },
      "source": [
        "student_score[4]"
      ],
      "execution_count": 6,
      "outputs": [
        {
          "output_type": "execute_result",
          "data": {
            "text/plain": [
              "['AI20MTECH14012', 80.0]"
            ]
          },
          "metadata": {
            "tags": []
          },
          "execution_count": 6
        }
      ]
    },
    {
      "cell_type": "markdown",
      "metadata": {
        "id": "yWQNOq0al7ya"
      },
      "source": [
        "**Find the score of student having roll number 'AI20MTECH14015'**"
      ]
    },
    {
      "cell_type": "code",
      "metadata": {
        "colab": {
          "base_uri": "https://localhost:8080/"
        },
        "id": "jO03kqo4l15n",
        "outputId": "52aaac75-a286-4149-b8cb-d13ca8462ab0"
      },
      "source": [
        "for records in student_score:\n",
        "  if records[0] == 'AI20MTECH14015':\n",
        "    print(records[1])"
      ],
      "execution_count": 7,
      "outputs": [
        {
          "output_type": "stream",
          "text": [
            "90.0\n"
          ],
          "name": "stdout"
        }
      ]
    },
    {
      "cell_type": "markdown",
      "metadata": {
        "id": "320Sm6oSmPWV"
      },
      "source": [
        "**Time Complexity of getting the score of a particular student is O(n)**"
      ]
    },
    {
      "cell_type": "markdown",
      "metadata": {
        "id": "KwuDecKcmrhX"
      },
      "source": [
        "**Implementation of above task using Python Dictionary**"
      ]
    },
    {
      "cell_type": "code",
      "metadata": {
        "id": "hQBNx5LdmMtl"
      },
      "source": [
        "student_data = {}\n",
        "with open('student_score.csv','r') as f:\n",
        "  for line in f:\n",
        "    tokens = line.split(',')\n",
        "    roll_num = tokens[0]\n",
        "    score = float(tokens[1])\n",
        "    student_data[roll_num] = score"
      ],
      "execution_count": 10,
      "outputs": []
    },
    {
      "cell_type": "code",
      "metadata": {
        "colab": {
          "base_uri": "https://localhost:8080/"
        },
        "id": "8IPNLnw-nJ7d",
        "outputId": "4cecd7a4-186a-485c-ff37-ed730b61b0cd"
      },
      "source": [
        "student_data"
      ],
      "execution_count": 11,
      "outputs": [
        {
          "output_type": "execute_result",
          "data": {
            "text/plain": [
              "{'AI20MTECH12013': 89.0,\n",
              " 'AI20MTECH12021': 56.0,\n",
              " 'AI20MTECH14010': 40.0,\n",
              " 'AI20MTECH14011': 60.0,\n",
              " 'AI20MTECH14012': 80.0,\n",
              " 'AI20MTECH14015': 90.0,\n",
              " 'AI20MTECH14016': 45.0,\n",
              " 'AI20MTECH14017': 67.0,\n",
              " 'AI20MTECH14019': 89.0}"
            ]
          },
          "metadata": {
            "tags": []
          },
          "execution_count": 11
        }
      ]
    },
    {
      "cell_type": "code",
      "metadata": {
        "colab": {
          "base_uri": "https://localhost:8080/"
        },
        "id": "Fdi-dSXnnLQ8",
        "outputId": "6e86514b-b79c-4f1e-d351-5de424dac54c"
      },
      "source": [
        "student_data['AI20MTECH14015']"
      ],
      "execution_count": 13,
      "outputs": [
        {
          "output_type": "execute_result",
          "data": {
            "text/plain": [
              "90.0"
            ]
          },
          "metadata": {
            "tags": []
          },
          "execution_count": 13
        }
      ]
    },
    {
      "cell_type": "markdown",
      "metadata": {
        "id": "624YublUnYfb"
      },
      "source": [
        "**Time Complexity of getting the score of a particular student is O(1)**"
      ]
    },
    {
      "cell_type": "markdown",
      "metadata": {
        "id": "9LbU3GcNnl3m"
      },
      "source": [
        "**Internal Implementation of Python Dictionary - Hashing Data Structure**"
      ]
    },
    {
      "cell_type": "code",
      "metadata": {
        "id": "Nxzi9elqnTWu"
      },
      "source": [
        "class HashTable:  \n",
        "    def __init__(self):\n",
        "        self.MAX = 10\n",
        "        ## List Comprehension\n",
        "        self.arr = [None for i in range(self.MAX)]\n",
        "\n",
        "    ## Method to calculate the hash function for a given value \n",
        "    def get_hash(self, key):\n",
        "        hash = 0\n",
        "        for char in key:\n",
        "            ## ord function in python helps us to get ascii value of \n",
        "            ## any character\n",
        "            hash += ord(char)\n",
        "        return hash % self.MAX\n",
        "    \n",
        "    ## Method definition of standard operators as functions in Python\n",
        "    ## getitem - to fetch the value of given index inside hash table\n",
        "    def __getitem__(self, index):\n",
        "        h = self.get_hash(index)\n",
        "        return self.arr[h]\n",
        "    ## setitem - to set the value corresponding to key inside hash table\n",
        "    def __setitem__(self, key, val):\n",
        "        h = self.get_hash(key)\n",
        "        self.arr[h] = val    \n",
        "    ## delitem - to delete the values inside the hash table for a given key  \n",
        "    def __delitem__(self, key):\n",
        "        h = self.get_hash(key)\n",
        "        self.arr[h] = None"
      ],
      "execution_count": 14,
      "outputs": []
    },
    {
      "cell_type": "code",
      "metadata": {
        "id": "L2_mFtMXsxSL"
      },
      "source": [
        "h = HashTable()\n",
        "h['AI20MTECH14015'] = 60\n",
        "h['AI20MTECH15092'] = 70"
      ],
      "execution_count": 15,
      "outputs": []
    },
    {
      "cell_type": "code",
      "metadata": {
        "colab": {
          "base_uri": "https://localhost:8080/"
        },
        "id": "YGeLUEUvtBxn",
        "outputId": "82830033-a247-4c40-e45a-fcde5d5a4c3b"
      },
      "source": [
        "h.arr"
      ],
      "execution_count": 16,
      "outputs": [
        {
          "output_type": "execute_result",
          "data": {
            "text/plain": [
              "[None, None, 70, None, None, None, 60, None, None, None]"
            ]
          },
          "metadata": {
            "tags": []
          },
          "execution_count": 16
        }
      ]
    },
    {
      "cell_type": "code",
      "metadata": {
        "colab": {
          "base_uri": "https://localhost:8080/"
        },
        "id": "C0p7RglJtDRL",
        "outputId": "ed75cf32-4602-4fb5-a9ff-909a74c5ea3d"
      },
      "source": [
        "h.get_hash('AI20MTECH14015')"
      ],
      "execution_count": 18,
      "outputs": [
        {
          "output_type": "execute_result",
          "data": {
            "text/plain": [
              "6"
            ]
          },
          "metadata": {
            "tags": []
          },
          "execution_count": 18
        }
      ]
    },
    {
      "cell_type": "code",
      "metadata": {
        "id": "Bsq3rykttTn5"
      },
      "source": [
        "del h['AI20MTECH14015']"
      ],
      "execution_count": 19,
      "outputs": []
    },
    {
      "cell_type": "code",
      "metadata": {
        "colab": {
          "base_uri": "https://localhost:8080/"
        },
        "id": "_IYbKTzGtjNF",
        "outputId": "4a727ed1-42d9-4b75-8ed1-625102c52203"
      },
      "source": [
        "h.arr"
      ],
      "execution_count": 20,
      "outputs": [
        {
          "output_type": "execute_result",
          "data": {
            "text/plain": [
              "[None, None, 70, None, None, None, None, None, None, None]"
            ]
          },
          "metadata": {
            "tags": []
          },
          "execution_count": 20
        }
      ]
    }
  ]
}